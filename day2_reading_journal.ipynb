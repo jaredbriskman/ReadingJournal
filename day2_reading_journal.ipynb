{
 "cells": [
  {
   "cell_type": "markdown",
   "metadata": {},
   "source": [
    "# Day 2 Reading Journal\n",
    "\n",
    "This journal includes several required exercises, but it is meant to encourage active reading more generally.  You should use the journal to take detailed notes, catalog questions, and explore the content from Think Python deeply.\n",
    "\n",
    "Reading: Think Python Chapter 6.1-6.4, 7\n",
    "\n",
    "**Due: Thursday, January 28 at 12 noon**\n",
    "\n"
   ]
  },
  {
   "cell_type": "markdown",
   "metadata": {},
   "source": [
    "## [Chapter 6.1-6.4](http://www.greenteapress.com/thinkpython/html/thinkpython007.html)\n",
    "\n",
    "Note: the exercise numbers below match up with the reading for ease of cross referencing."
   ]
  },
  {
   "cell_type": "markdown",
   "metadata": {},
   "source": [
    "**Quick check:** What is a _fruitful function_?"
   ]
  },
  {
   "cell_type": "markdown",
   "metadata": {},
   "source": [
    "A fuction that passes back something when called. "
   ]
  },
  {
   "cell_type": "markdown",
   "metadata": {},
   "source": [
    "### Exercise 1  \n",
    "Write a `compare` function that returns `1` if `x > y`, `0` if `x == y`, and `-1` if `x < y`."
   ]
  },
  {
   "cell_type": "code",
   "execution_count": 11,
   "metadata": {
    "collapsed": false
   },
   "outputs": [
    {
     "name": "stdout",
     "output_type": "stream",
     "text": [
      "1\n",
      "-1\n",
      "0\n",
      "1\n"
     ]
    }
   ],
   "source": [
    "import doctest\n",
    "\n",
    "def compare(x,y):\n",
    "    \"\"\"Compares two values, and returns if the first is bigger than the second. Only designed with numbers in mind.\n",
    "    \n",
    "    >>>compare(1,-1)\n",
    "    1\n",
    "    >>>compare(-1,1)\n",
    "    -1\n",
    "    >>>compare(0,0)\n",
    "    0\n",
    "    \"\"\"\n",
    "\n",
    "    if x > y:\n",
    "        return 1\n",
    "    elif x < y:\n",
    "        return -1\n",
    "    elif x == y:\n",
    "        return 0\n",
    "    else:\n",
    "        return \"Something's fishy\" #Not needed? This should never catch anything.\n",
    "\n",
    "\n",
    "print compare(1,-1)\n",
    "print compare(-1,1)\n",
    "print compare(0,0)\n",
    "print compare('t',6) #Dangit, need to typecheck or specify."
   ]
  },
  {
   "cell_type": "markdown",
   "metadata": {},
   "source": [
    "**Quick check:** Modify the `absolute_value` function so that it returns the correct result for all integer inputs."
   ]
  },
  {
   "cell_type": "code",
   "execution_count": 12,
   "metadata": {
    "collapsed": false
   },
   "outputs": [
    {
     "name": "stdout",
     "output_type": "stream",
     "text": [
      "1\n",
      "1\n",
      "0\n",
      "1.1\n"
     ]
    }
   ],
   "source": [
    "def absolute_value(x):\n",
    "    \"\"\"Returns absolute value, takes in numbers\"\"\"\n",
    "    if x < 0:\n",
    "        return -x\n",
    "    elif x > 0:\n",
    "        return x\n",
    "    else:\n",
    "        return x\n",
    "    \n",
    "print absolute_value(1)\n",
    "print absolute_value(-1)\n",
    "print absolute_value(0)\n",
    "print absolute_value(-1.1)"
   ]
  },
  {
   "cell_type": "markdown",
   "metadata": {},
   "source": [
    "### Exercise 2  \n",
    "Use incremental development to write a function called `hypotenuse` that returns the length of the hypotenuse of a right triangle given the lengths of the two legs as arguments. Record each stage of the development process as you go, using as many cells as you need."
   ]
  },
  {
   "cell_type": "code",
   "execution_count": 13,
   "metadata": {
    "collapsed": false
   },
   "outputs": [
    {
     "name": "stdout",
     "output_type": "stream",
     "text": [
      "c\n"
     ]
    }
   ],
   "source": [
    "def hypotenuse(a,b):\n",
    "    \"\"\"Returns the hypotenuse of a right triangle given the two other sides. Takes Numbers.\n",
    "    \n",
    "    >>>hypotenuse(3,4)\n",
    "    5\n",
    "    \"\"\"\n",
    "    return 'c'\n",
    "\n",
    "print hypotenuse(3,4)"
   ]
  },
  {
   "cell_type": "code",
   "execution_count": 16,
   "metadata": {
    "collapsed": false
   },
   "outputs": [
    {
     "name": "stdout",
     "output_type": "stream",
     "text": [
      "25\n"
     ]
    }
   ],
   "source": [
    "def hypotenuse(a,b):\n",
    "    \"\"\"Returns the hypotenuse of a right triangle given the two other sides. Takes Numbers.\n",
    "    \n",
    "    >>>hypotenuse(3,4)\n",
    "    5\n",
    "    \"\"\"\n",
    "    return a**2 + b**2\n",
    "\n",
    "print hypotenuse(3,4)"
   ]
  },
  {
   "cell_type": "code",
   "execution_count": 23,
   "metadata": {
    "collapsed": false
   },
   "outputs": [
    {
     "name": "stdout",
     "output_type": "stream",
     "text": [
      "5.0\n",
      "6.35688603013\n"
     ]
    }
   ],
   "source": [
    "def hypotenuse(a,b):\n",
    "    \"\"\"Returns the hypotenuse of a right triangle given the two other sides. Takes Numbers.\n",
    "    \n",
    "    >>>hypotenuse(3,4)\n",
    "    5.0\n",
    "    \"\"\"\n",
    "    \n",
    "    return ((a**2. + b**2.)**(1/2.))\n",
    "    \n",
    "\n",
    "print hypotenuse(3,4)\n",
    "print hypotenuse(2.1,6)"
   ]
  },
  {
   "cell_type": "markdown",
   "metadata": {},
   "source": [
    "### Exercise 3  \n",
    "Write a function `is_between(x, y, z)` that returns `True` if `x ≤ y ≤ z` or `False` otherwise."
   ]
  },
  {
   "cell_type": "code",
   "execution_count": 28,
   "metadata": {
    "collapsed": false
   },
   "outputs": [
    {
     "name": "stdout",
     "output_type": "stream",
     "text": [
      "True\n",
      "True\n",
      "False\n",
      "False\n"
     ]
    }
   ],
   "source": [
    "def is_between(x,y,z):\n",
    "    \"\"\"returns true if x <= y <= z, else returns false\n",
    "    \n",
    "    >>>is_between(1,2,3)\n",
    "    True\n",
    "    \n",
    "    >>>is_between(1.9,2,2.1)\n",
    "    True\n",
    "    \n",
    "    >>>is_between(3,2,1)\n",
    "    False\n",
    "    \n",
    "    >>>is_between(2,1,3)\n",
    "    False\n",
    "    \n",
    "    \n",
    "    \"\"\"\n",
    "    if x<=y<=z:\n",
    "        return True\n",
    "    else:\n",
    "        return False\n",
    "\n",
    "print is_between(1,2,3)\n",
    "print is_between(1.9,2,2.1)\n",
    "print is_between(3,2,1)    \n",
    "print is_between(2,1,3)        "
   ]
  },
  {
   "cell_type": "markdown",
   "metadata": {},
   "source": [
    "## [Chapter 7](http://www.greenteapress.com/thinkpython/html/thinkpython008.html)\n",
    "\n"
   ]
  },
  {
   "cell_type": "markdown",
   "metadata": {},
   "source": [
    "**Quick check:** How do you test for equality in Python?"
   ]
  },
  {
   "cell_type": "markdown",
   "metadata": {},
   "source": [
    "a == b "
   ]
  },
  {
   "cell_type": "markdown",
   "metadata": {},
   "source": [
    "**Challenge:** Prove/disprove the Collatz conjecture :)"
   ]
  },
  {
   "cell_type": "markdown",
   "metadata": {},
   "source": [
    "Will do right after I finish p = np"
   ]
  },
  {
   "cell_type": "markdown",
   "metadata": {},
   "source": [
    "### Exercise 2  \n",
    "Encapsulate the loop from Section 7.5 in a function called `square_root` that takes `a` as a parameter, chooses a reasonable value of `x`, and returns an estimate of the square root of `a`."
   ]
  },
  {
   "cell_type": "code",
   "execution_count": 15,
   "metadata": {
    "collapsed": false
   },
   "outputs": [
    {
     "name": "stdout",
     "output_type": "stream",
     "text": [
      "10.0\n"
     ]
    }
   ],
   "source": [
    "def square_root(a, tolerance = 0.00000001):\n",
    "    \"\"\"returns an approximation of sqrt(a) within a given tolerance by newtons method\"\"\"\n",
    "    if a > 1:\n",
    "        x = a/2.0 #estimating seed\n",
    "    elif a < 1:\n",
    "        x = 2 * a #estimating seed\n",
    "        \n",
    "    while True:\n",
    "#        print (x) #verbose\n",
    "        y = (x + a/x) / 2.\n",
    "        if abs(y-x) < tolerance:\n",
    "            break\n",
    "        x = y\n",
    "    return y\n",
    "\n",
    "\n",
    "print square_root(100)  \n",
    "\n",
    "    "
   ]
  },
  {
   "cell_type": "markdown",
   "metadata": {},
   "source": [
    "### Exercise 3  \n",
    "To test the square root algorithm you developed in Exercise 2, you could compare it with Python's `math.sqrt` function. Write a function named `test_square_root` that prints a table like this:\n",
    "\n",
    "```python\n",
    "1.0 1.0           1.0           0.0\n",
    "2.0 1.41421356237 1.41421356237 2.22044604925e-16\n",
    "3.0 1.73205080757 1.73205080757 0.0\n",
    "4.0 2.0           2.0           0.0\n",
    "5.0 2.2360679775  2.2360679775  0.0\n",
    "6.0 2.44948974278 2.44948974278 0.0\n",
    "7.0 2.64575131106 2.64575131106 0.0\n",
    "8.0 2.82842712475 2.82842712475 4.4408920985e-16\n",
    "9.0 3.0           3.0           0.0\n",
    "```\n",
    "\n",
    "The first column is a number, `a`; the second column is the square root of a computed with the function from Section 7.5; the third column is the square root computed by `math.sqrt`; the fourth column is the absolute value of the difference between the two estimates."
   ]
  },
  {
   "cell_type": "code",
   "execution_count": 40,
   "metadata": {
    "collapsed": false
   },
   "outputs": [
    {
     "name": "stdout",
     "output_type": "stream",
     "text": [
      "1 1            1.0          0.0         \n",
      "2 1.41421356237 1.41421356237 2.22044604925e-16\n",
      "3 1.73205080757 1.73205080757 0.0         \n",
      "4 2.0          2.0          0.0         \n",
      "5 2.2360679775 2.2360679775 0.0         \n",
      "6 2.44948974278 2.44948974278 0.0         \n",
      "7 2.64575131106 2.64575131106 0.0         \n",
      "8 2.82842712475 2.82842712475 4.4408920985e-16\n",
      "9 3.0          3.0          0.0         \n",
      "10 3.16227766017 3.16227766017 4.4408920985e-16\n"
     ]
    }
   ],
   "source": [
    "import math\n",
    "\n",
    "def square_root(a, tolerance = 0.00000001):\n",
    "    \"\"\"returns an approximation of sqrt(a) within a given tolerance by newtons method\"\"\"\n",
    "    if a > 1:\n",
    "        x = a/2.0 #estimating seed\n",
    "    elif a < 1:\n",
    "        x = 2 * a #estimating seed\n",
    "    else:\n",
    "        return 1\n",
    "    while True:\n",
    "#        print (x) #verbose\n",
    "        y = (x + a/x) / 2.\n",
    "        if abs(y-x) < tolerance:\n",
    "            break\n",
    "        x = y\n",
    "    return y\n",
    "\n",
    "def string_format(a):\n",
    "    \"\"\"takes a number, and returns a string of length 13 of the number \"\"\"\n",
    "    astr = str(a)\n",
    "    spacelength = 12-len(astr)\n",
    "    return str(a) + spacelength * \" \"\n",
    "\n",
    "def test_square_root(a):\n",
    "    \"\"\"Compares amateur square root method to the standard library, and prints a table of results\"\"\"\n",
    "    amateur = square_root(a)\n",
    "                \n",
    "    professional = math.sqrt(a)\n",
    "    \n",
    "    print a, string_format(amateur), string_format(professional), string_format(abs(professional-amateur))\n",
    "\n",
    "for i in range(10):\n",
    "    test_square_root(i+1)\n"
   ]
  },
  {
   "cell_type": "markdown",
   "metadata": {},
   "source": [
    "### Challenge: Exercise 5  (optional)\n",
    "The mathematician Srinivasa Ramanujan found an infinite series that can be used to generate a numerical approximation of\n",
    "$\\frac{1}{\\pi}$:\n",
    "\n",
    "$$\\frac{1}{\\pi} = \\frac{2 \\sqrt{2}}{9801} \\sum_{k=0}^{\\infty} \\frac{(4k)! (1103+26390k)}{(k!)^4 396^{4k}}$$\n",
    " \n",
    "Write a function called `estimate_pi` that uses this formula to compute and return an estimate of $\\pi$. It should use a `while` loop to compute terms of the summation until the last term is smaller than `1e-15` (which is Python notation for $10^{−15}$). You can check the result by comparing it to `math.pi`.\n",
    "\n",
    "[Possible solution](http://thinkpython.com/code/pi.py) (give the exercise a try before viewing the solution)"
   ]
  },
  {
   "cell_type": "code",
   "execution_count": null,
   "metadata": {
    "collapsed": true
   },
   "outputs": [],
   "source": []
  },
  {
   "cell_type": "markdown",
   "metadata": {},
   "source": [
    "## Reading Journal feedback\n",
    "\n",
    "Have any comments on this Reading Journal? Feel free to leave them below and we'll read them when you submit your journal entry. This could include suggestions to improve the exercises, topics you'd like to see covered in class next time, or other feedback.\n",
    "\n",
    "If you have Python questions or run into problems while completing the reading, you should post them to Piazza instead so you can get a quick response before your journal is submitted."
   ]
  },
  {
   "cell_type": "markdown",
   "metadata": {},
   "source": [
    " "
   ]
  }
 ],
 "metadata": {
  "kernelspec": {
   "display_name": "Python 2",
   "language": "python",
   "name": "python2"
  },
  "language_info": {
   "codemirror_mode": {
    "name": "ipython",
    "version": 2
   },
   "file_extension": ".py",
   "mimetype": "text/x-python",
   "name": "python",
   "nbconvert_exporter": "python",
   "pygments_lexer": "ipython2",
   "version": "2.7.6"
  }
 },
 "nbformat": 4,
 "nbformat_minor": 0
}
