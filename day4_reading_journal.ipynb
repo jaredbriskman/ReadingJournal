{
 "cells": [
  {
   "cell_type": "markdown",
   "metadata": {},
   "source": [
    "# Day 4 Reading Journal\n",
    "\n",
    "This journal includes several required exercises, but it is meant to encourage active reading more generally.  You should use the journal to take detailed notes, catalog questions, and explore the content from Think Python deeply.\n",
    "\n",
    "Reading: Think Python Chapter 10\n",
    "\n",
    "**Due: Thursday, February 4 at 12 noon**\n",
    "\n"
   ]
  },
  {
   "cell_type": "markdown",
   "metadata": {},
   "source": [
    "## [Chapter 10](http://www.greenteapress.com/thinkpython/html/thinkpython011.html)\n",
    "\n",
    "You may want to review [state diagrams in Chapter 2](http://www.greenteapress.com/thinkpython/html/thinkpython003.html#toc13). [Python Tutor](http://pythontutor.com/) is also helpful for visualizing the state of your program.\n",
    "\n"
   ]
  },
  {
   "cell_type": "markdown",
   "metadata": {},
   "source": [
    "### Exercise 4  \n",
    "Write a function called `middle` that takes a list and returns a new list that contains all but the first and last elements. So `middle([1,2,3,4])` should return `[2,3]`."
   ]
  },
  {
   "cell_type": "code",
   "execution_count": 2,
   "metadata": {
    "collapsed": false
   },
   "outputs": [
    {
     "name": "stdout",
     "output_type": "stream",
     "text": [
      "[2, 3]\n",
      "[]\n"
     ]
    }
   ],
   "source": [
    "def middle(inputList):\n",
    "    \"\"\"Takes off the first and last elements of a list, and returns that new list.\n",
    "    \n",
    "    >>> middle([1,2,3,4])\n",
    "    [2,3]\n",
    "    \n",
    "    >>> middle([1,2])\n",
    "    []\n",
    "    \"\"\"\n",
    "    outputList = inputList[1:len(inputList)-1]\n",
    "    return outputList\n",
    "\n",
    "print middle([1,2,3,4])\n",
    "print middle([1,2])"
   ]
  },
  {
   "cell_type": "markdown",
   "metadata": {},
   "source": [
    "### Exercise 5  \n",
    "Write a function called `chop` that takes a list, modifies it by removing the first and last elements, and returns `None`.\n",
    "\n",
    "What is the difference between `middle` and `chop`? Sketch out the program state or take a look at each in Python Tutor."
   ]
  },
  {
   "cell_type": "code",
   "execution_count": 4,
   "metadata": {
    "collapsed": false
   },
   "outputs": [
    {
     "name": "stdout",
     "output_type": "stream",
     "text": [
      "None\n"
     ]
    }
   ],
   "source": [
    "def chop(inputList):\n",
    "    \"\"\"Removes the first and last elements from an input list, returns none.\n",
    "    >>> middle([1,2,3,4])\n",
    "    None\n",
    "    \"\"\"\n",
    "    inputlist = inputList[1:len(inputList)-1]\n",
    "    \n",
    "\n",
    "    "
   ]
  },
  {
   "cell_type": "markdown",
   "metadata": {},
   "source": [
    "### Exercise 7  \n",
    "Two words are anagrams if you can rearrange the letters from one to spell the other. Write a function called `is_anagram` that takes two strings and returns `True` if they are anagrams."
   ]
  },
  {
   "cell_type": "code",
   "execution_count": 8,
   "metadata": {
    "collapsed": false
   },
   "outputs": [
    {
     "name": "stdout",
     "output_type": "stream",
     "text": [
      "True\n",
      "False\n"
     ]
    }
   ],
   "source": [
    "def anagram(shtring1, shtring2):\n",
    "    \"\"\"checks if two strings are anagrams, returns a bool. Does not consider spaces.\n",
    "    \n",
    "    >>>anagram('Public relations','Crap built on lies')\n",
    "    True\n",
    "    >>>anagram('abc','abd')\n",
    "    False\n",
    "    \"\"\"\n",
    "    set1 = set((shtring1.replace(\" \", \"\")).lower())\n",
    "    set2 = set((shtring2.replace(\" \", \"\")).lower())\n",
    "    return set1 == set2\n",
    "\n",
    "print anagram('Public relations','Crap built on lies')\n",
    "print anagram('abc','abd')"
   ]
  },
  {
   "cell_type": "markdown",
   "metadata": {},
   "source": [
    "### Exercise 8  \n",
    "The (so-called) Birthday Paradox:\n",
    "1. Write a function called `has_duplicates` that takes a list and returns `True` if there is any element that appears more than once. It should not modify the original list.\n",
    "2. If there are 23 students in your class, what are the chances that two of you have the same birthday? You can estimate this probability by generating random samples of 23 birthdays and checking for matches. Hint: you can generate random birthdays with the randint function in the [random module](https://docs.python.org/2/library/random.html).\n",
    "\n",
    "You can read about this problem at http://en.wikipedia.org/wiki/Birthday_paradox, and you can download Allen's solution from http://thinkpython.com/code/birthday.py."
   ]
  },
  {
   "cell_type": "code",
   "execution_count": 16,
   "metadata": {
    "collapsed": false
   },
   "outputs": [
    {
     "name": "stdout",
     "output_type": "stream",
     "text": [
      "0.5\n"
     ]
    }
   ],
   "source": [
    "\"\"\"Taking this as in a group, what are the chances that there is at least one shared birthday.\"\"\"\n",
    "\n",
    "import random\n",
    "\n",
    "def has_duplicates(lisht):\n",
    "    \"\"\"Returns True if there are any duplicates in the list. \n",
    "    >>>has_duplicates(['a','b',1,2,'ab','ab'])\n",
    "    True\n",
    "    >>>has_duplicates(['a','b',1,2,'ab',])\n",
    "    False\n",
    "    >>>has_duplicates([])\n",
    "    False\n",
    "    \"\"\"\n",
    "    shet = set()\n",
    "    return any(x in shet or shet.add(x) for x in lisht)\n",
    "\n",
    "#print has_duplicates(['a','b',1,2,'ab','ab'])\n",
    "#print has_duplicates(['a','b',1,2,'ab',])\n",
    "#print has_duplicates([])\n",
    "\n",
    "def birthday_calc(groupSize, iterationTimes):\n",
    "    \"\"\"Takes in a size of group and a number of times to test, and returns an average percentage of shared birthday occurances\n",
    "    \"\"\"\n",
    "    total = 0\n",
    "    for i in xrange(iterationTimes):\n",
    "        birthdayList = []\n",
    "        for n in xrange(groupSize):\n",
    "            birthday = random.randint(1, 365)\n",
    "            birthdayList.append(birthday)\n",
    "        if has_duplicates(birthdayList):\n",
    "            total += 1\n",
    "        \n",
    "    return total / float(iterationTimes) \n",
    "\n",
    "print birthday_calc(23,100) #Whaddya know, about 50%\n",
    "    "
   ]
  },
  {
   "cell_type": "markdown",
   "metadata": {},
   "source": [
    "### Challenge: Exercise 11 (optional)\n",
    "\n",
    "You should read [Chapter 9.1](http://www.greenteapress.com/thinkpython/html/thinkpython010.html) and do Exercise 1 first.\n",
    "\n",
    "To check whether a word is in the word list, you could use the `in` operator, but it would be relatively slow because it searches through the words in order (try it).\n",
    "\n",
    "Because the words are in alphabetical order, we can speed things up with a bisection search (also known as binary search), which is similar to what you do when you look a word up in the dictionary. You start in the middle and check to see whether the word you are looking for comes before the word in the middle of the list. If so, then you search the first half of the list the same way. Otherwise you search the second half.\n",
    "\n",
    "Either way, you cut the remaining search space in half. If the word list has 113,809 words, it will take about 17 steps to find the word or conclude that it’s not there.\n",
    "\n",
    "Write a function called `bisect` that takes a sorted list and a target value and returns the index of the value in the list, if it’s there, or `None` if it’s not.\n",
    "\n",
    "Or you could read the documentation of the `bisect` module and use that! Solution: http://thinkpython.com/code/inlist.py."
   ]
  },
  {
   "cell_type": "code",
   "execution_count": null,
   "metadata": {
    "collapsed": true
   },
   "outputs": [],
   "source": []
  },
  {
   "cell_type": "markdown",
   "metadata": {},
   "source": [
    "## Reading Journal feedback\n",
    "\n",
    "Have any comments on this Reading Journal? Feel free to leave them below and we'll read them when you submit your journal entry. This could include suggestions to improve the exercises, topics you'd like to see covered in class next time, or other feedback.\n",
    "\n",
    "If you have Python questions or run into problems while completing the reading, you should post them to Piazza instead so you can get a quick response before your journal is submitted."
   ]
  },
  {
   "cell_type": "markdown",
   "metadata": {},
   "source": [
    "Used the reading journal as an excuse to delve a little deeper into python's functional tools and datastructures. Sets are super useful!\n"
   ]
  },
  {
   "cell_type": "markdown",
   "metadata": {},
   "source": [
    " "
   ]
  }
 ],
 "metadata": {
  "kernelspec": {
   "display_name": "Python 2",
   "language": "python",
   "name": "python2"
  },
  "language_info": {
   "codemirror_mode": {
    "name": "ipython",
    "version": 2
   },
   "file_extension": ".py",
   "mimetype": "text/x-python",
   "name": "python",
   "nbconvert_exporter": "python",
   "pygments_lexer": "ipython2",
   "version": "2.7.6"
  }
 },
 "nbformat": 4,
 "nbformat_minor": 0
}
